{
 "cells": [
  {
   "cell_type": "code",
   "execution_count": 4,
   "metadata": {},
   "outputs": [
    {
     "name": "stdout",
     "output_type": "stream",
     "text": [
      "{'FaceDetails': [{'BoundingBox': {'Width': 0.5568941235542297, 'Height': 0.6625829935073853, 'Left': 0.2966020405292511, 'Top': 0.23558475077152252}, 'AgeRange': {'Low': 22, 'High': 34}, 'Smile': {'Value': True, 'Confidence': 89.28433990478516}, 'Eyeglasses': {'Value': False, 'Confidence': 99.75648498535156}, 'Sunglasses': {'Value': False, 'Confidence': 99.95162200927734}, 'Gender': {'Value': 'Female', 'Confidence': 99.88870239257812}, 'Beard': {'Value': False, 'Confidence': 99.86988067626953}, 'Mustache': {'Value': False, 'Confidence': 99.97504425048828}, 'EyesOpen': {'Value': True, 'Confidence': 89.24169921875}, 'MouthOpen': {'Value': False, 'Confidence': 91.29607391357422}, 'Emotions': [{'Type': 'HAPPY', 'Confidence': 70.49076843261719}, {'Type': 'CALM', 'Confidence': 27.434879302978516}, {'Type': 'CONFUSED', 'Confidence': 0.5919445157051086}, {'Type': 'SURPRISED', 'Confidence': 0.42983922362327576}, {'Type': 'DISGUSTED', 'Confidence': 0.4182055592536926}, {'Type': 'SAD', 'Confidence': 0.37595272064208984}, {'Type': 'ANGRY', 'Confidence': 0.16692516207695007}, {'Type': 'FEAR', 'Confidence': 0.09148105978965759}], 'Landmarks': [{'Type': 'eyeLeft', 'X': 0.4591282904148102, 'Y': 0.5256047248840332}, {'Type': 'eyeRight', 'X': 0.7062070965766907, 'Y': 0.5216018557548523}, {'Type': 'mouthLeft', 'X': 0.48450967669487, 'Y': 0.7551740407943726}, {'Type': 'mouthRight', 'X': 0.690894603729248, 'Y': 0.7518792152404785}, {'Type': 'nose', 'X': 0.5811657905578613, 'Y': 0.6551133990287781}, {'Type': 'leftEyeBrowLeft', 'X': 0.36745965480804443, 'Y': 0.469395250082016}, {'Type': 'leftEyeBrowRight', 'X': 0.4369983673095703, 'Y': 0.4455946385860443}, {'Type': 'leftEyeBrowUp', 'X': 0.5079020857810974, 'Y': 0.45822951197624207}, {'Type': 'rightEyeBrowLeft', 'X': 0.648622453212738, 'Y': 0.4557400047779083}, {'Type': 'rightEyeBrowRight', 'X': 0.7205193638801575, 'Y': 0.4406331777572632}, {'Type': 'rightEyeBrowUp', 'X': 0.7957639694213867, 'Y': 0.46199363470077515}, {'Type': 'leftEyeLeft', 'X': 0.415607213973999, 'Y': 0.5238487720489502}, {'Type': 'leftEyeRight', 'X': 0.5078689455986023, 'Y': 0.5265293121337891}, {'Type': 'leftEyeUp', 'X': 0.45792654156684875, 'Y': 0.514237642288208}, {'Type': 'leftEyeDown', 'X': 0.460305780172348, 'Y': 0.5355194211006165}, {'Type': 'rightEyeLeft', 'X': 0.6569104194641113, 'Y': 0.5240691900253296}, {'Type': 'rightEyeRight', 'X': 0.7499698996543884, 'Y': 0.5183219313621521}, {'Type': 'rightEyeUp', 'X': 0.7057117223739624, 'Y': 0.5101328492164612}, {'Type': 'rightEyeDown', 'X': 0.7048009634017944, 'Y': 0.531489908695221}, {'Type': 'noseLeft', 'X': 0.53763347864151, 'Y': 0.6755837798118591}, {'Type': 'noseRight', 'X': 0.628610372543335, 'Y': 0.6740346550941467}, {'Type': 'mouthUp', 'X': 0.5840710997581482, 'Y': 0.7303605079650879}, {'Type': 'mouthDown', 'X': 0.5861518979072571, 'Y': 0.7984243035316467}, {'Type': 'leftPupil', 'X': 0.4591282904148102, 'Y': 0.5256047248840332}, {'Type': 'rightPupil', 'X': 0.7062070965766907, 'Y': 0.5216018557548523}, {'Type': 'upperJawlineLeft', 'X': 0.3194677233695984, 'Y': 0.5158947706222534}, {'Type': 'midJawlineLeft', 'X': 0.37535253167152405, 'Y': 0.7671467661857605}, {'Type': 'chinBottom', 'X': 0.5907394886016846, 'Y': 0.9142786264419556}, {'Type': 'midJawlineRight', 'X': 0.8100422620773315, 'Y': 0.7595979571342468}, {'Type': 'upperJawlineRight', 'X': 0.8557462692260742, 'Y': 0.5064966678619385}], 'Pose': {'Roll': -1.217128038406372, 'Yaw': -0.31657907366752625, 'Pitch': 0.7134600281715393}, 'Quality': {'Brightness': 96.41117095947266, 'Sharpness': 86.86019134521484}, 'Confidence': 99.99932861328125}], 'ResponseMetadata': {'RequestId': 'c59fae66-abea-4ad6-8702-be4a684eb0e2', 'HTTPStatusCode': 200, 'HTTPHeaders': {'content-type': 'application/x-amz-json-1.1', 'date': 'Sun, 25 Oct 2020 15:37:14 GMT', 'x-amzn-requestid': 'c59fae66-abea-4ad6-8702-be4a684eb0e2', 'content-length': '3331', 'connection': 'keep-alive'}, 'RetryAttempts': 0}}\n"
     ]
    }
   ],
   "source": [
    "import boto3\n",
    "rekognition = boto3.client('rekognition')\n",
    "\n",
    "with open('/Users/nvvankad/Documents/Personal/Masters/CSCE 5214 - Software Development for AI/P3 Project/SampleImage.png', 'rb') as image_data:\n",
    "    response_content = image_data.read()\n",
    "    rekognition_response = rekognition.detect_faces(Image={'Bytes':response_content}, Attributes=['ALL'])\n",
    "\n",
    "print(rekognition_response)"
   ]
  },
  {
   "cell_type": "code",
   "execution_count": 12,
   "metadata": {},
   "outputs": [
    {
     "data": {
      "text/plain": [
       "[{'Type': 'HAPPY', 'Confidence': 70.49076843261719},\n",
       " {'Type': 'CALM', 'Confidence': 27.434879302978516},\n",
       " {'Type': 'CONFUSED', 'Confidence': 0.5919445157051086},\n",
       " {'Type': 'SURPRISED', 'Confidence': 0.42983922362327576},\n",
       " {'Type': 'DISGUSTED', 'Confidence': 0.4182055592536926},\n",
       " {'Type': 'SAD', 'Confidence': 0.37595272064208984},\n",
       " {'Type': 'ANGRY', 'Confidence': 0.16692516207695007},\n",
       " {'Type': 'FEAR', 'Confidence': 0.09148105978965759}]"
      ]
     },
     "execution_count": 12,
     "metadata": {},
     "output_type": "execute_result"
    }
   ],
   "source": [
    "rekognition_response['FaceDetails']"
   ]
  },
  {
   "cell_type": "code",
   "execution_count": 13,
   "metadata": {},
   "outputs": [
    {
     "data": {
      "text/plain": [
       "[{'Type': 'HAPPY', 'Confidence': 70.49076843261719},\n",
       " {'Type': 'CALM', 'Confidence': 27.434879302978516},\n",
       " {'Type': 'CONFUSED', 'Confidence': 0.5919445157051086},\n",
       " {'Type': 'SURPRISED', 'Confidence': 0.42983922362327576},\n",
       " {'Type': 'DISGUSTED', 'Confidence': 0.4182055592536926},\n",
       " {'Type': 'SAD', 'Confidence': 0.37595272064208984},\n",
       " {'Type': 'ANGRY', 'Confidence': 0.16692516207695007},\n",
       " {'Type': 'FEAR', 'Confidence': 0.09148105978965759}]"
      ]
     },
     "execution_count": 13,
     "metadata": {},
     "output_type": "execute_result"
    }
   ],
   "source": [
    "rekognition_response['FaceDetails'][0]['Emotions']"
   ]
  },
  {
   "cell_type": "code",
   "execution_count": null,
   "metadata": {},
   "outputs": [],
   "source": []
  }
 ],
 "metadata": {
  "kernelspec": {
   "display_name": "Python 3",
   "language": "python",
   "name": "python3"
  },
  "language_info": {
   "codemirror_mode": {
    "name": "ipython",
    "version": 3
   },
   "file_extension": ".py",
   "mimetype": "text/x-python",
   "name": "python",
   "nbconvert_exporter": "python",
   "pygments_lexer": "ipython3",
   "version": "3.7.1"
  }
 },
 "nbformat": 4,
 "nbformat_minor": 4
}
