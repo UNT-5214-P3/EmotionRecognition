{
 "cells": [
  {
   "cell_type": "code",
   "execution_count": 1,
   "metadata": {},
   "outputs": [],
   "source": [
    "# data from - https://github.com/UNT-5214-P3/EmotionRecognition/blob/main/keras_predictions_test_data.txt\n",
    "\n",
    "keras_predicted_labels = ['Sad', 'Surprise', 'Surprise', 'Fear', 'Fear', 'Surprise', 'Fear', 'Sad', 'Sad', 'Fear', 'Angry', 'Surprise', 'Surprise', 'Surprise', 'Angry', 'Angry', 'Angry', 'Happy', 'Neutral', 'Surprise', 'Sad', 'Sad', 'Fear', 'Surprise', 'Neutral', 'Angry', 'Sad', 'Fear', 'Fear', 'Surprise', 'Angry', 'Angry', 'Fear', 'Neutral', 'Neutral', 'Fear', 'Angry', 'Angry', 'Sad', 'Fear', 'Surprise', 'Angry', 'Angry', 'Neutral', 'Fear', 'Angry', 'Angry', 'Fear', 'Sad', 'Neutral', 'Neutral', 'Sad', 'Fear', 'Angry', 'Angry', 'Angry', 'Angry', 'Fear', 'Fear', 'Angry', 'Sad', 'Sad', 'Surprise', 'Angry', 'Sad', 'Angry', 'Surprise', 'Angry', 'Neutral', 'Sad', 'Sad', 'Happy', 'Sad', 'Sad', 'Angry', 'Fear', 'Happy', 'Fear', 'Angry', 'Angry', 'Angry', 'Sad', 'Surprise', 'Sad', 'Sad', 'Fear', 'Sad', 'Angry', 'Neutral', 'Neutral', 'Angry', 'Surprise', 'Angry', 'Neutral', 'Fear', 'Fear', 'Angry', 'Fear', 'Angry', 'Fear', 'Fear', 'Fear', 'Fear', 'Sad', 'Neutral', 'Angry', 'Sad', 'Fear', 'Fear', 'Surprise', 'Sad', 'Fear', 'Angry', 'Fear', 'Angry', 'Fear', 'Surprise', 'Fear', 'Sad', 'Sad', 'Fear', 'Sad', 'Sad', 'Sad', 'Fear', 'Fear', 'Angry', 'Fear', 'Angry', 'Fear', 'Fear', 'Surprise', 'Fear', 'Fear', 'Sad', 'Fear', 'Angry', 'Angry', 'Surprise', 'Happy', 'Surprise', 'Sad', 'Fear', 'Angry', 'Angry', 'Angry', 'Fear', 'Fear', 'Angry', 'Sad', 'Neutral', 'Fear', 'Fear', 'Happy', 'Sad', 'Fear', 'Neutral', 'Surprise', 'Sad', 'Sad', 'Angry', 'Neutral', 'Fear', 'Fear', 'Fear', 'Fear', 'Sad', 'Fear', 'Fear', 'Happy', 'Fear', 'Fear', 'Angry', 'Angry', 'Angry', 'Fear', 'Sad', 'Sad', 'Surprise', 'Sad', 'Sad', 'Angry', 'Angry', 'Neutral', 'Fear', 'Angry', 'Fear', 'Neutral', 'Neutral', 'Angry', 'Angry', 'Fear', 'Sad', 'Neutral', 'Sad', 'Neutral', 'Fear', 'Fear', 'Angry', 'Angry', 'Surprise', 'Fear', 'Angry', 'Fear', 'Fear', 'Sad', 'Fear', 'Surprise', 'Surprise', 'Surprise', 'Fear', 'Fear', 'Fear', 'Fear', 'Sad', 'Fear', 'Angry', 'Neutral', 'Angry', 'Fear', 'Sad', 'Fear', 'Fear', 'Surprise', 'Sad', 'Fear', 'Fear', 'Fear', 'Fear', 'Fear', 'Sad', 'Fear', 'Surprise', 'Fear', 'Fear', 'Fear', 'Fear', 'Fear', 'Surprise', 'Sad', 'Fear', 'Fear', 'Angry', 'Fear', 'Surprise', 'Surprise', 'Fear', 'Sad', 'Angry', 'Surprise', 'Fear', 'Fear', 'Sad', 'Fear', 'Neutral', 'Fear', 'Fear', 'Angry', 'Angry', 'Fear', 'Fear', 'Surprise', 'Surprise', 'Fear', 'Sad', 'Angry', 'Angry', 'Surprise', 'Fear', 'Angry', 'Fear', 'Sad', 'Fear', 'Sad', 'Fear', 'Fear', 'Fear', 'Fear', 'Fear', 'Sad', 'Fear', 'Surprise', 'Fear', 'Fear', 'Surprise', 'Happy', 'Angry', 'Fear', 'Angry', 'Angry', 'Surprise', 'Sad', 'Happy', 'Surprise', 'Angry', 'Sad', 'Angry', 'Angry', 'Fear', 'Fear', 'Surprise', 'Neutral', 'Sad', 'Angry', 'Fear', 'Sad', 'Sad', 'Sad', 'Angry', 'Surprise', 'Happy', 'Surprise', 'Neutral', 'Sad', 'Neutral', 'Happy', 'Surprise', 'Surprise', 'Sad', 'Sad', 'Angry', 'Fear', 'Angry', 'Fear', 'Neutral', 'Surprise', 'Sad', 'Happy', 'Angry', 'Angry', 'Surprise', 'Happy', 'Surprise', 'Happy', 'Angry', 'Fear', 'Sad', 'Angry', 'Fear', 'Angry', 'Surprise', 'Sad', 'Sad', 'Angry', 'Fear', 'Sad', 'Neutral', 'Neutral', 'Neutral', 'Fear', 'Fear', 'Happy', 'Sad', 'Neutral', 'Happy', 'Fear', 'Happy', 'Sad', 'Fear', 'Happy', 'Sad', 'Neutral', 'Sad', 'Surprise', 'Angry', 'Fear', 'Happy', 'Fear', 'Angry', 'Surprise', 'Neutral', 'Surprise', 'Neutral', 'Angry', 'Fear', 'Angry', 'Surprise', 'Neutral', 'Sad', 'Sad', 'Sad', 'Happy', 'Surprise', 'Sad', 'Happy', 'Surprise', 'Happy', 'Sad', 'Happy', 'Surprise', 'Fear', 'Happy', 'Fear', 'Neutral', 'Neutral', 'Angry', 'Happy', 'Fear', 'Sad', 'Surprise', 'Fear', 'Angry', 'Angry', 'Fear', 'Fear', 'Surprise', 'Fear', 'Happy', 'Fear', 'Angry', 'Surprise', 'Sad', 'Sad', 'Angry', 'Fear', 'Fear', 'Sad', 'Sad', 'Angry', 'Fear', 'Sad', 'Surprise', 'Fear', 'Fear', 'Angry', 'Neutral', 'Fear', 'Angry', 'Sad', 'Sad', 'Surprise', 'Neutral', 'Sad', 'Sad', 'Angry', 'Sad', 'Sad', 'Sad', 'Fear', 'Surprise', 'Sad', 'Fear', 'Fear', 'Neutral', 'Angry', 'Surprise', 'Surprise', 'Sad', 'Happy', 'Surprise', 'Neutral', 'Fear', 'Sad', 'Sad', 'Sad', 'Happy', 'Neutral', 'Angry', 'Neutral', 'Fear', 'Fear', 'Sad', 'Fear', 'Sad', 'Sad', 'Angry', 'Surprise', 'Sad', 'Sad', 'Sad', 'Neutral', 'Fear', 'Sad', 'Neutral', 'Sad', 'Fear', 'Neutral', 'Surprise', 'Neutral', 'Fear', 'Sad', 'Sad', 'Sad', 'Fear', 'Happy', 'Surprise', 'Fear', 'Angry', 'Fear', 'Fear', 'Angry', 'Surprise', 'Fear', 'Angry', 'Sad', 'Fear', 'Sad', 'Sad', 'Surprise', 'Neutral', 'Surprise', 'Surprise', 'Surprise', 'Fear', 'Surprise', 'Surprise', 'Happy', 'Surprise', 'Surprise', 'Surprise', 'Sad', 'Surprise', 'Surprise', 'Surprise', 'Neutral', 'Fear', 'Surprise', 'Surprise', 'Surprise', 'Surprise', 'Surprise', 'Happy', 'Surprise', 'Surprise', 'Surprise', 'Surprise', 'Surprise', 'Surprise', 'Happy', 'Surprise', 'Fear', 'Surprise', 'Neutral', 'Surprise', 'Surprise', 'Surprise', 'Sad', 'Surprise', 'Surprise', 'Surprise', 'Neutral', 'Fear', 'Surprise', 'Fear', 'Surprise', 'Fear', 'Surprise', 'Surprise', 'Angry', 'Surprise', 'Surprise', 'Surprise', 'Fear', 'Sad', 'Surprise', 'Surprise', 'Fear', 'Surprise', 'Surprise', 'Fear', 'Surprise', 'Surprise', 'Angry', 'Surprise', 'Surprise', 'Happy', 'Surprise', 'Surprise', 'Surprise', 'Surprise', 'Surprise', 'Surprise', 'Surprise', 'Fear', 'Surprise', 'Surprise', 'Surprise', 'Surprise', 'Fear', 'Surprise', 'Surprise', 'Surprise', 'Fear', 'Surprise', 'Surprise', 'Surprise', 'Surprise', 'Surprise', 'Surprise', 'Angry', 'Fear', 'Surprise', 'Surprise', 'Fear', 'Surprise', 'Fear', 'Surprise', 'Surprise', 'Sad', 'Surprise', 'Neutral', 'Fear', 'Neutral', 'Sad', 'Sad', 'Neutral', 'Surprise', 'Fear', 'Fear', 'Angry', 'Neutral', 'Neutral', 'Surprise', 'Happy', 'Surprise', 'Neutral', 'Neutral', 'Fear', 'Neutral', 'Sad', 'Neutral', 'Sad', 'Neutral', 'Fear', 'Fear', 'Angry', 'Fear', 'Neutral', 'Neutral', 'Sad', 'Surprise', 'Surprise', 'Surprise', 'Surprise', 'Surprise', 'Fear', 'Fear', 'Neutral', 'Fear', 'Surprise', 'Fear', 'Surprise', 'Fear', 'Sad', 'Surprise', 'Neutral', 'Fear', 'Surprise', 'Sad', 'Surprise', 'Sad', 'Angry', 'Surprise', 'Surprise', 'Fear', 'Angry', 'Surprise', 'Sad', 'Fear', 'Neutral', 'Sad', 'Fear', 'Surprise', 'Sad', 'Fear', 'Fear', 'Sad', 'Neutral', 'Fear', 'Happy', 'Sad', 'Fear', 'Fear', 'Fear', 'Neutral', 'Fear', 'Sad', 'Happy', 'Happy', 'Angry', 'Angry', 'Happy', 'Angry', 'Neutral', 'Fear', 'Sad', 'Happy', 'Surprise', 'Neutral', 'Surprise', 'Sad', 'Sad', 'Angry', 'Neutral', 'Fear', 'Angry', 'Surprise', 'Surprise', 'Neutral', 'Sad']"
   ]
  },
  {
   "cell_type": "code",
   "execution_count": 2,
   "metadata": {},
   "outputs": [
    {
     "data": {
      "text/plain": [
       "700"
      ]
     },
     "execution_count": 2,
     "metadata": {},
     "output_type": "execute_result"
    }
   ],
   "source": [
    "len(keras_predicted_labels)"
   ]
  },
  {
   "cell_type": "code",
   "execution_count": 3,
   "metadata": {},
   "outputs": [],
   "source": [
    "import torch\n",
    "import torchvision\n",
    "import torchvision.transforms as transforms\n",
    "from torchvision.datasets.folder import pil_loader\n",
    "import pickle\n",
    "Pkl_Filename = \"P3ModelPyTorch.pkl\"\n",
    "with open(Pkl_Filename, 'rb') as file:  \n",
    "    SavedModel = pickle.load(file)"
   ]
  },
  {
   "cell_type": "code",
   "execution_count": 4,
   "metadata": {},
   "outputs": [],
   "source": [
    "transform_test = transforms.Compose([\n",
    "                    transforms.Resize((128,128)),\n",
    "                    transforms.ToTensor(),\n",
    "                    transforms.Normalize((0.4914, 0.4822, 0.4465), (0.2023, 0.1994, 0.2010)),\n",
    "                    ])"
   ]
  },
  {
   "cell_type": "code",
   "execution_count": 5,
   "metadata": {},
   "outputs": [],
   "source": [
    "\n",
    "def pytorch_model_prediction(im):\n",
    "    newPic = transform_test(pil_loader(im))\n",
    "    newPic = newPic.unsqueeze(0)\n",
    "    outputNew = SavedModel(newPic)\n",
    "    _, predicted = torch.max(outputNew.data, 1)\n",
    "    if predicted == 0:\n",
    "        return 'Anger'\n",
    "    elif predicted == 1:\n",
    "        return 'Disgust'\n",
    "    elif predicted == 2:\n",
    "        return 'Fear'\n",
    "    elif predicted == 3:\n",
    "        return 'Happy'\n",
    "    elif predicted == 4:\n",
    "        return 'Sad'\n",
    "    elif predicted == 5:\n",
    "        return 'Surprise'\n",
    "    elif predicted == 6:\n",
    "        return 'Neutral'\n",
    "    \n",
    "#     sm = torch.nn.Softmax(dim=1)\n",
    "#     probabilities = sm(outputNew)\n",
    "#     b = max(list(max(probabilities.data)))\n",
    "#     print('{:f}'.format(b))"
   ]
  },
  {
   "cell_type": "code",
   "execution_count": 6,
   "metadata": {},
   "outputs": [],
   "source": [
    "import os\n",
    "\n",
    "root_path = '/Users/nvvankad/Documents/Personal/Masters/CSCE 5214 - Software Development for AI/P3 Project/test_data'\n",
    "folders = ['0Angry', '1Disgust', '2Fear', '3Happy', '4Sad', '5Surprise', '6Neutral']\n",
    "pytorch_predicted_labels = []\n",
    "\n",
    "for folder in folders:\n",
    "    for currentpath, folders, files in os.walk(os.path.join(root_path, folder)):\n",
    "        for file in files:\n",
    "            file_path = os.path.join(currentpath, file)\n",
    "            if '.DS_Store' in file_path:\n",
    "                continue\n",
    "            pytorch_predicted_labels.append(pytorch_model_prediction(file_path))"
   ]
  },
  {
   "cell_type": "code",
   "execution_count": 7,
   "metadata": {},
   "outputs": [
    {
     "data": {
      "text/plain": [
       "700"
      ]
     },
     "execution_count": 7,
     "metadata": {},
     "output_type": "execute_result"
    }
   ],
   "source": [
    "len(pytorch_predicted_labels)"
   ]
  },
  {
   "cell_type": "code",
   "execution_count": 8,
   "metadata": {},
   "outputs": [
    {
     "data": {
      "image/png": "[encoded data removed]",
      "text/plain": [
       "<Figure size 432x288 with 2 Axes>"
      ]
     },
     "metadata": {
      "needs_background": "light"
     },
     "output_type": "display_data"
    }
   ],
   "source": [
    "# Sample confusion matrix between true vs true.\n",
    "import pandas as pd\n",
    "import seaborn as sn\n",
    "import matplotlib.pyplot as plt\n",
    "\n",
    "data = {'keras_predictions':   keras_predicted_labels,\n",
    "        'pytorch_predictions': pytorch_predicted_labels\n",
    "        }\n",
    "\n",
    "df = pd.DataFrame(data, columns=['keras_predictions','pytorch_predictions'])\n",
    "confusion_matrix = pd.crosstab(df['keras_predictions'], df['pytorch_predictions'], rownames=['Keras Model Predictions'], colnames=['Pytorch Model Predictions'])\n",
    "\n",
    "sn.heatmap(confusion_matrix, annot=True, fmt = \".0f\")\n",
    "plt.show()"
   ]
  },
  {
   "cell_type": "code",
   "execution_count": null,
   "metadata": {},
   "outputs": [],
   "source": []
  }
 ],
 "metadata": {
  "kernelspec": {
   "display_name": "Python 3",
   "language": "python",
   "name": "python3"
  },
  "language_info": {
   "codemirror_mode": {
    "name": "ipython",
    "version": 3
   },
   "file_extension": ".py",
   "mimetype": "text/x-python",
   "name": "python",
   "nbconvert_exporter": "python",
   "pygments_lexer": "ipython3",
   "version": "3.7.1"
  }
 },
 "nbformat": 4,
 "nbformat_minor": 4
}
