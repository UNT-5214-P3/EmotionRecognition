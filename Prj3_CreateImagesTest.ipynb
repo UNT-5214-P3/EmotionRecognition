{
 "cells": [
  {
   "cell_type": "code",
   "execution_count": 1,
   "metadata": {},
   "outputs": [],
   "source": [
    "# To begin, I created a folder called \"Project3_dataTest\". I placed the fer2013.csv\n",
    "# file within the Project3_data folder, and then I ran the following code."
   ]
  },
  {
   "cell_type": "code",
   "execution_count": 2,
   "metadata": {},
   "outputs": [],
   "source": [
    "import numpy as np\n",
    "import pandas as pd\n",
    "import os\n",
    "from PIL import Image"
   ]
  },
  {
   "cell_type": "code",
   "execution_count": 3,
   "metadata": {},
   "outputs": [],
   "source": [
    "df = pd.read_csv('/Users/blakemyers/Desktop/Jupyter/Project3_dataTest/fer2013.csv')"
   ]
  },
  {
   "cell_type": "code",
   "execution_count": 4,
   "metadata": {
    "scrolled": true
   },
   "outputs": [
    {
     "data": {
      "text/html": [
       "<div>\n",
       "<style scoped>\n",
       "    .dataframe tbody tr th:only-of-type {\n",
       "        vertical-align: middle;\n",
       "    }\n",
       "\n",
       "    .dataframe tbody tr th {\n",
       "        vertical-align: top;\n",
       "    }\n",
       "\n",
       "    .dataframe thead th {\n",
       "        text-align: right;\n",
       "    }\n",
       "</style>\n",
       "<table border=\"1\" class=\"dataframe\">\n",
       "  <thead>\n",
       "    <tr style=\"text-align: right;\">\n",
       "      <th></th>\n",
       "      <th>emotion</th>\n",
       "      <th>pixels</th>\n",
       "      <th>Usage</th>\n",
       "    </tr>\n",
       "  </thead>\n",
       "  <tbody>\n",
       "    <tr>\n",
       "      <th>0</th>\n",
       "      <td>0</td>\n",
       "      <td>70 80 82 72 58 58 60 63 54 58 60 48 89 115 121...</td>\n",
       "      <td>Training</td>\n",
       "    </tr>\n",
       "    <tr>\n",
       "      <th>1</th>\n",
       "      <td>0</td>\n",
       "      <td>151 150 147 155 148 133 111 140 170 174 182 15...</td>\n",
       "      <td>Training</td>\n",
       "    </tr>\n",
       "    <tr>\n",
       "      <th>2</th>\n",
       "      <td>2</td>\n",
       "      <td>231 212 156 164 174 138 161 173 182 200 106 38...</td>\n",
       "      <td>Training</td>\n",
       "    </tr>\n",
       "    <tr>\n",
       "      <th>3</th>\n",
       "      <td>4</td>\n",
       "      <td>24 32 36 30 32 23 19 20 30 41 21 22 32 34 21 1...</td>\n",
       "      <td>Training</td>\n",
       "    </tr>\n",
       "    <tr>\n",
       "      <th>4</th>\n",
       "      <td>6</td>\n",
       "      <td>4 0 0 0 0 0 0 0 0 0 0 0 3 15 23 28 48 50 58 84...</td>\n",
       "      <td>Training</td>\n",
       "    </tr>\n",
       "  </tbody>\n",
       "</table>\n",
       "</div>"
      ],
      "text/plain": [
       "   emotion                                             pixels     Usage\n",
       "0        0  70 80 82 72 58 58 60 63 54 58 60 48 89 115 121...  Training\n",
       "1        0  151 150 147 155 148 133 111 140 170 174 182 15...  Training\n",
       "2        2  231 212 156 164 174 138 161 173 182 200 106 38...  Training\n",
       "3        4  24 32 36 30 32 23 19 20 30 41 21 22 32 34 21 1...  Training\n",
       "4        6  4 0 0 0 0 0 0 0 0 0 0 0 3 15 23 28 48 50 58 84...  Training"
      ]
     },
     "execution_count": 4,
     "metadata": {},
     "output_type": "execute_result"
    }
   ],
   "source": [
    "df.head()"
   ]
  },
  {
   "cell_type": "code",
   "execution_count": 5,
   "metadata": {},
   "outputs": [],
   "source": [
    "df0 = df.query('emotion == 0 and Usage != \"Training\"')\n",
    "df1 = df.query('emotion == 1 and Usage != \"Training\"')\n",
    "df2 = df.query('emotion == 2 and Usage != \"Training\"')\n",
    "df3 = df.query('emotion == 3 and Usage != \"Training\"')\n",
    "df4 = df.query('emotion == 4 and Usage != \"Training\"')\n",
    "df5 = df.query('emotion == 5 and Usage != \"Training\"')\n",
    "df6 = df.query('emotion == 6 and Usage != \"Training\"')"
   ]
  },
  {
   "cell_type": "code",
   "execution_count": 6,
   "metadata": {},
   "outputs": [],
   "source": [
    "os.mkdir(\"/Users/blakemyers/Desktop/Jupyter/Project3_dataTest/0/\")\n",
    "os.mkdir(\"/Users/blakemyers/Desktop/Jupyter/Project3_dataTest/1/\")\n",
    "os.mkdir(\"/Users/blakemyers/Desktop/Jupyter/Project3_dataTest/2/\")\n",
    "os.mkdir(\"/Users/blakemyers/Desktop/Jupyter/Project3_dataTest/3/\")\n",
    "os.mkdir(\"/Users/blakemyers/Desktop/Jupyter/Project3_dataTest/4/\")\n",
    "os.mkdir(\"/Users/blakemyers/Desktop/Jupyter/Project3_dataTest/5/\")\n",
    "os.mkdir(\"/Users/blakemyers/Desktop/Jupyter/Project3_dataTest/6/\")"
   ]
  },
  {
   "cell_type": "code",
   "execution_count": 7,
   "metadata": {},
   "outputs": [],
   "source": [
    "d=0\n",
    "for image_pixels in df0.iloc[1:,1]:\n",
    "    image_string = image_pixels.split(' ')\n",
    "    image_data = np.asarray(image_string, dtype=np.uint8).reshape(48,48)\n",
    "    img = Image.fromarray(image_data)\n",
    "    img.save(\"/Users/blakemyers/Desktop/Jupyter/Project3_dataTest/0/img_%d.jpg\"%d, \"JPEG\")\n",
    "    d+=1"
   ]
  },
  {
   "cell_type": "code",
   "execution_count": 8,
   "metadata": {},
   "outputs": [],
   "source": [
    "d=0\n",
    "for image_pixels in df1.iloc[1:,1]:\n",
    "    image_string = image_pixels.split(' ')\n",
    "    image_data = np.asarray(image_string, dtype=np.uint8).reshape(48,48)\n",
    "    img = Image.fromarray(image_data)\n",
    "    img.save(\"/Users/blakemyers/Desktop/Jupyter/Project3_dataTest/1/img_%d.jpg\"%d, \"JPEG\")\n",
    "    d+=1"
   ]
  },
  {
   "cell_type": "code",
   "execution_count": 9,
   "metadata": {},
   "outputs": [],
   "source": [
    "d=0\n",
    "for image_pixels in df2.iloc[1:,1]:\n",
    "    image_string = image_pixels.split(' ')\n",
    "    image_data = np.asarray(image_string, dtype=np.uint8).reshape(48,48)\n",
    "    img = Image.fromarray(image_data)\n",
    "    img.save(\"/Users/blakemyers/Desktop/Jupyter/Project3_dataTest/2/img_%d.jpg\"%d, \"JPEG\")\n",
    "    d+=1"
   ]
  },
  {
   "cell_type": "code",
   "execution_count": 10,
   "metadata": {},
   "outputs": [],
   "source": [
    "d=0\n",
    "for image_pixels in df3.iloc[1:,1]:\n",
    "    image_string = image_pixels.split(' ')\n",
    "    image_data = np.asarray(image_string, dtype=np.uint8).reshape(48,48)\n",
    "    img = Image.fromarray(image_data)\n",
    "    img.save(\"/Users/blakemyers/Desktop/Jupyter/Project3_dataTest/3/img_%d.jpg\"%d, \"JPEG\")\n",
    "    d+=1"
   ]
  },
  {
   "cell_type": "code",
   "execution_count": 11,
   "metadata": {},
   "outputs": [],
   "source": [
    "d=0\n",
    "for image_pixels in df4.iloc[1:,1]:\n",
    "    image_string = image_pixels.split(' ')\n",
    "    image_data = np.asarray(image_string, dtype=np.uint8).reshape(48,48)\n",
    "    img = Image.fromarray(image_data)\n",
    "    img.save(\"/Users/blakemyers/Desktop/Jupyter/Project3_dataTest/4/img_%d.jpg\"%d, \"JPEG\")\n",
    "    d+=1"
   ]
  },
  {
   "cell_type": "code",
   "execution_count": 12,
   "metadata": {},
   "outputs": [],
   "source": [
    "d=0\n",
    "for image_pixels in df5.iloc[1:,1]:\n",
    "    image_string = image_pixels.split(' ')\n",
    "    image_data = np.asarray(image_string, dtype=np.uint8).reshape(48,48)\n",
    "    img = Image.fromarray(image_data)\n",
    "    img.save(\"/Users/blakemyers/Desktop/Jupyter/Project3_dataTest/5/img_%d.jpg\"%d, \"JPEG\")\n",
    "    d+=1"
   ]
  },
  {
   "cell_type": "code",
   "execution_count": 13,
   "metadata": {},
   "outputs": [],
   "source": [
    "d=0\n",
    "for image_pixels in df6.iloc[1:,1]:\n",
    "    image_string = image_pixels.split(' ')\n",
    "    image_data = np.asarray(image_string, dtype=np.uint8).reshape(48,48)\n",
    "    img = Image.fromarray(image_data)\n",
    "    img.save(\"/Users/blakemyers/Desktop/Jupyter/Project3_dataTest/6/img_%d.jpg\"%d, \"JPEG\")\n",
    "    d+=1"
   ]
  },
  {
   "cell_type": "code",
   "execution_count": 14,
   "metadata": {},
   "outputs": [],
   "source": [
    "df99 = df.query('Usage != \"Training\"')"
   ]
  },
  {
   "cell_type": "code",
   "execution_count": 15,
   "metadata": {},
   "outputs": [
    {
     "data": {
      "text/plain": [
       "(7178, 3)"
      ]
     },
     "execution_count": 15,
     "metadata": {},
     "output_type": "execute_result"
    }
   ],
   "source": [
    "df99.shape"
   ]
  },
  {
   "cell_type": "code",
   "execution_count": null,
   "metadata": {},
   "outputs": [],
   "source": []
  }
 ],
 "metadata": {
  "kernelspec": {
   "display_name": "Python 3",
   "language": "python",
   "name": "python3"
  },
  "language_info": {
   "codemirror_mode": {
    "name": "ipython",
    "version": 3
   },
   "file_extension": ".py",
   "mimetype": "text/x-python",
   "name": "python",
   "nbconvert_exporter": "python",
   "pygments_lexer": "ipython3",
   "version": "3.7.9"
  }
 },
 "nbformat": 4,
 "nbformat_minor": 2
}
